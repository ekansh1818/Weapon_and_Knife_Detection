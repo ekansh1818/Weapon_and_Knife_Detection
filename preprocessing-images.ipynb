{
 "cells": [
  {
   "cell_type": "code",
   "execution_count": 1,
   "id": "1d9f7141",
   "metadata": {},
   "outputs": [
    {
     "name": "stdout",
     "output_type": "stream",
     "text": [
      "Detalhe horizontal da transformada wavelet salvo em ./imgs/Haar_Compressed/Test/images\\images.jpg\n",
      "Detalhe horizontal da transformada wavelet salvo em ./imgs/Haar_Compressed/Test/images\\images1.jpg\n"
     ]
    }
   ],
   "source": [
    "# %load preprocessing-images.py\n",
    "import os\n",
    "import cv2\n",
    "import pywt\n",
    "import numpy as np\n",
    "\n",
    "def apply_symlet_transform(image):\n",
    "    coeffs2 = pywt.dwt2(image, 'sym2')\n",
    "    LL, (LH, HL, HH) = coeffs2\n",
    "    return LH\n",
    "\n",
    "def apply_daubechies_transform(image):\n",
    "    coeffs2 = pywt.dwt2(image, 'db2')\n",
    "    LL, (LH, HL, HH) = coeffs2\n",
    "    return LH\n",
    "\n",
    "def apply_haar_transform(image):\n",
    "    coeffs2 = pywt.dwt2(image, 'haar')\n",
    "    LL, (LH, HL, HH) = coeffs2\n",
    "    return LH\n",
    "\n",
    "def enhance_contrast(image):\n",
    "    normalized_image = ((image - np.min(image)) / (np.max(image) - np.min(image))) * 255\n",
    "    return normalized_image.astype(np.uint8)\n",
    "\n",
    "def process_images_in_folder(input_folder, output_folder):\n",
    "    os.makedirs(output_folder, exist_ok=True)\n",
    "    image_files = [f for f in os.listdir(input_folder) if f.lower().endswith(('.png', '.jpg', '.jpeg', '.bmp'))]\n",
    "\n",
    "    for image_file in image_files:\n",
    "        input_path = os.path.join(input_folder, image_file)\n",
    "        original = cv2.imread(input_path)\n",
    "        horizontal_detail = apply_haar_transform(original)\n",
    "        horizontal_detail = enhance_contrast(horizontal_detail)\n",
    "        horizontal_detail = cv2.resize(horizontal_detail, (640, 640))\n",
    "\n",
    "        output_path = os.path.join(output_folder, f'{image_file}')\n",
    "        cv2.imwrite(output_path, original, [int(cv2.IMWRITE_JPEG_QUALITY), 20])\n",
    "        print(f\"Detalhe horizontal da transformada wavelet salvo em {output_path}\")\n",
    "\n",
    "#input_folder = \"./assets/Tes\"\n",
    "input_folder = \"C:/Users/ekans/Weapons-and-Knives-Detector-with-YOLOv8/imgs/Normal/Test\"\n",
    "output_folder = \"./imgs/Haar_Compressed/Test/images\"\n",
    "process_images_in_folder(input_folder, output_folder)\n"
   ]
  },
  {
   "cell_type": "code",
   "execution_count": null,
   "id": "7ad090c9",
   "metadata": {},
   "outputs": [],
   "source": []
  }
 ],
 "metadata": {
  "kernelspec": {
   "display_name": "Python 3 (ipykernel)",
   "language": "python",
   "name": "python3"
  },
  "language_info": {
   "codemirror_mode": {
    "name": "ipython",
    "version": 3
   },
   "file_extension": ".py",
   "mimetype": "text/x-python",
   "name": "python",
   "nbconvert_exporter": "python",
   "pygments_lexer": "ipython3",
   "version": "3.9.12"
  }
 },
 "nbformat": 4,
 "nbformat_minor": 5
}
